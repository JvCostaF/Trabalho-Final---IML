{
 "cells": [
  {
   "cell_type": "code",
   "execution_count": 1,
   "id": "6bee6c9a",
   "metadata": {},
   "outputs": [],
   "source": [
    "import pandas as pd\n",
    "import numpy as np\n",
    "import matplotlib.pyplot as plt\n",
    "import seaborn as sns\n",
    "\n",
    "from scipy import stats\n",
    "\n",
    "from sklearn.model_selection import RepeatedStratifiedKFold, cross_val_score\n",
    "from sklearn.preprocessing import StandardScaler, LabelEncoder, OneHotEncoder\n",
    "from sklearn.tree import DecisionTreeClassifier\n",
    "from sklearn.pipeline import Pipeline\n",
    "from sklearn.metrics import accuracy_score, classification_report, confusion_matrix\n",
    "\n",
    "df = pd.read_csv('C:\\\\Users\\\\joaov\\\\UFRJ\\\\2025.1\\\\IML\\\\Trabalho Final\\\\Trabalho-Final---IML\\\\Dry_Bean.csv')"
   ]
  },
  {
   "cell_type": "code",
   "execution_count": null,
   "id": "b11f9bd9",
   "metadata": {},
   "outputs": [
    {
     "name": "stdout",
     "output_type": "stream",
     "text": [
      "Iniciando as avaliações do modelo de SVM...\n",
      "\n",
      "-> Avaliando o modelo: DecisionTree\n",
      "DecisionTree | Média: 0.8945 | Desvio: 0.0079 | IC 95%: (0.8936, 0.8954)\n",
      "\n"
     ]
    }
   ],
   "source": [
    "X = df.drop('Class', axis=1)\n",
    "y = df['Class']\n",
    "\n",
    "label_encoder = LabelEncoder()\n",
    "y_encoded = label_encoder.fit_transform(y)\n",
    "\n",
    "cv_strategy = RepeatedStratifiedKFold(n_splits=10, n_repeats=30, random_state=42)\n",
    "\n",
    "pipeline = {\n",
    "    'DecisionTree': Pipeline([\n",
    "        ('scaler', StandardScaler()),  # pelo o que eu vi é opcional para árvore de decisã.\n",
    "        ('tree', DecisionTreeClassifier(criterion='gini', random_state=42))\n",
    "    ])\n",
    "}\n",
    "\n",
    "results = {}\n",
    "print(\"Iniciando as avaliações do modelo de Árvore de Decisão...\\n\")\n",
    "for name, pipe in pipeline.items():\n",
    "    print(f\"-> Avaliando o modelo: {name}\")\n",
    "    scores = cross_val_score(pipe, X, y_encoded, cv=cv_strategy, scoring='accuracy', n_jobs=-1)\n",
    "    results[name] = scores\n",
    "    mean_accuracy = np.mean(scores)\n",
    "    std_accuracy = np.std(scores)\n",
    "    confidence_interval = stats.t.interval(0.95, len(scores)-1, loc=mean_accuracy, scale=stats.sem(scores))\n",
    "    print(f\"{name} | Média: {mean_accuracy:.4f} | Desvio: {std_accuracy:.4f} | IC 95%: ({confidence_interval[0]:.4f}, {confidence_interval[1]:.4f})\\n\")"
   ]
  },
  {
   "cell_type": "code",
   "execution_count": null,
   "id": "fa90edad",
   "metadata": {},
   "outputs": [
    {
     "name": "stdout",
     "output_type": "stream",
     "text": [
      "Iniciando as avaliações do modelo de Redes Neurais...\n",
      "\n",
      "-> Avaliando o modelo: DecisionTree\n",
      "DecisionTree | Média: 0.8945 | Desvio: 0.0079 | IC 95%: (0.8936, 0.8954)\n",
      "\n",
      "Resultados salvos em 'resultados_cross_val.csv'\n"
     ]
    }
   ],
   "source": [
    "X = df.drop('Class', axis=1)\n",
    "y = df['Class']\n",
    "\n",
    "label_encoder = LabelEncoder()\n",
    "y_encoded = label_encoder.fit_transform(y)\n",
    "\n",
    "cv_strategy = RepeatedStratifiedKFold(n_splits=10, n_repeats=30, random_state=42)\n",
    "\n",
    "pipeline = {\n",
    "    'DecisionTree': Pipeline([\n",
    "        ('scaler', StandardScaler()),  # opcional para árvore, mas pode deixar por consistência\n",
    "        ('tree', DecisionTreeClassifier(criterion='gini', random_state=42))\n",
    "    ])\n",
    "}\n",
    "\n",
    "results = {}         # Para guardar os arrays de acurácia de cada modelo\n",
    "csv_data = []        # Para guardar os dados linha a linha e exportar para CSV\n",
    "\n",
    "print(\"Iniciando as avaliações do modelo de Árvores de Decisão...\\n\")\n",
    "\n",
    "for name, pipe in pipeline.items():\n",
    "    print(f\"-> Avaliando o modelo: {name}\")\n",
    "    \n",
    "    # Executa validação cruzada\n",
    "    scores = cross_val_score(pipe, X, y_encoded, cv=cv_strategy, scoring='accuracy', n_jobs=-1)\n",
    "    results[name] = scores  # salva no dicionário\n",
    "    \n",
    "    # Prepara os dados para exportar em CSV\n",
    "    for i, score in enumerate(scores):\n",
    "        csv_data.append({\n",
    "            'Modelo': name,\n",
    "            'Execucao': i + 1,\n",
    "            'Acuracia': score\n",
    "        })\n",
    "    \n",
    "    # Estatísticas\n",
    "    mean_accuracy = np.mean(scores)\n",
    "    std_accuracy = np.std(scores)\n",
    "    confidence_interval = stats.t.interval(0.95, len(scores)-1, loc=mean_accuracy, scale=stats.sem(scores))\n",
    "    \n",
    "    print(f\"{name} | Média: {mean_accuracy:.4f} | Desvio: {std_accuracy:.4f} | IC 95%: ({confidence_interval[0]:.4f}, {confidence_interval[1]:.4f})\\n\")\n",
    "\n",
    "# Salva o CSV com todas as execuções\n",
    "df_csv = pd.DataFrame(csv_data)\n",
    "df_csv.to_csv('resultados_cross_val_decisionTree.csv', index=False)\n",
    "print(\"Resultados salvos em 'resultados_cross_val.csv'\")"
   ]
  }
 ],
 "metadata": {
  "kernelspec": {
   "display_name": "Python 3",
   "language": "python",
   "name": "python3"
  },
  "language_info": {
   "codemirror_mode": {
    "name": "ipython",
    "version": 3
   },
   "file_extension": ".py",
   "mimetype": "text/x-python",
   "name": "python",
   "nbconvert_exporter": "python",
   "pygments_lexer": "ipython3",
   "version": "3.10.11"
  }
 },
 "nbformat": 4,
 "nbformat_minor": 5
}
