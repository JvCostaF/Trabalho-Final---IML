{
 "cells": [
  {
   "cell_type": "code",
   "execution_count": 1,
   "id": "ffb17c4e",
   "metadata": {},
   "outputs": [],
   "source": [
    "import pandas as pd\n",
    "import numpy as np\n",
    "import matplotlib.pyplot as plt\n",
    "import seaborn as sns\n",
    "\n",
    "from scipy import stats\n",
    "\n",
    "from sklearn.model_selection import RepeatedStratifiedKFold, cross_val_score\n",
    "from sklearn.preprocessing import StandardScaler, LabelEncoder, OneHotEncoder\n",
    "from sklearn.svm import SVC, LinearSVC\n",
    "from sklearn.pipeline import Pipeline\n",
    "from sklearn.metrics import accuracy_score, classification_report, confusion_matrix\n",
    "\n",
    "df = pd.read_csv('C:\\\\Users\\\\joaov\\\\UFRJ\\\\2025.1\\\\IML\\\\Trabalho Final\\\\Trabalho-Final---IML\\\\Dry_Bean.csv')"
   ]
  },
  {
   "cell_type": "code",
   "execution_count": 3,
   "id": "1011e6fc",
   "metadata": {},
   "outputs": [
    {
     "name": "stdout",
     "output_type": "stream",
     "text": [
      "Iniciando as avaliações do modelo de SVM...\n",
      "\n",
      "-> Avaliando o modelo: SVC_RBF\n",
      "SVC_RBF | Média: 0.9296 | Desvio: 0.0064 | IC 95%: (0.9289, 0.9303)\n",
      "\n",
      "-> Avaliando o modelo: LinearSVC\n",
      "LinearSVC | Média: 0.9176 | Desvio: 0.0066 | IC 95%: (0.9168, 0.9183)\n",
      "\n"
     ]
    }
   ],
   "source": [
    "X = df.drop('Class', axis=1)\n",
    "y = df['Class']\n",
    "\n",
    "label_encoder = LabelEncoder()\n",
    "y_encoded = label_encoder.fit_transform(y)\n",
    "\n",
    "cv_strategy = RepeatedStratifiedKFold(n_splits=10, n_repeats=30, random_state=42)\n",
    "\n",
    "pipelines = {\n",
    "    'SVC_RBF': Pipeline([\n",
    "        ('scaler', StandardScaler()),\n",
    "        ('svc', SVC(kernel='rbf', random_state=42))\n",
    "    ]),\n",
    "    'LinearSVC': Pipeline([\n",
    "        ('scaler', StandardScaler()),\n",
    "        ('linsvc', LinearSVC(max_iter=10000, random_state=42))\n",
    "    ])\n",
    "}\n",
    "\n",
    "results = {}\n",
    "print(\"Iniciando as avaliações do modelo de SVM...\\n\")\n",
    "for name, pipe in pipelines.items():\n",
    "    print(f\"-> Avaliando o modelo: {name}\")\n",
    "    scores = cross_val_score(pipe, X, y_encoded, cv=cv_strategy, scoring='accuracy', n_jobs=-1)\n",
    "    results[name] = scores\n",
    "    mean_accuracy = np.mean(scores)\n",
    "    std_accuracy = np.std(scores)\n",
    "    confidence_interval = stats.t.interval(0.95, len(scores)-1, loc=mean_accuracy, scale=stats.sem(scores))\n",
    "    print(f\"{name} | Média: {mean_accuracy:.4f} | Desvio: {std_accuracy:.4f} | IC 95%: ({confidence_interval[0]:.4f}, {confidence_interval[1]:.4f})\\n\")"
   ]
  }
 ],
 "metadata": {
  "kernelspec": {
   "display_name": "Python 3",
   "language": "python",
   "name": "python3"
  },
  "language_info": {
   "codemirror_mode": {
    "name": "ipython",
    "version": 3
   },
   "file_extension": ".py",
   "mimetype": "text/x-python",
   "name": "python",
   "nbconvert_exporter": "python",
   "pygments_lexer": "ipython3",
   "version": "3.10.11"
  }
 },
 "nbformat": 4,
 "nbformat_minor": 5
}
